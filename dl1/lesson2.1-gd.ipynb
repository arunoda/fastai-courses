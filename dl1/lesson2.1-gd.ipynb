{
 "cells": [
  {
   "cell_type": "markdown",
   "metadata": {},
   "source": [
    "# Lesson 2.1 - Gradient Descent\n",
    "\n",
    "Gradient Descent is a critical tool used in machine learning. <br/>\n",
    "It's somewhat hard to implement, if you are not really good with Math. (Like myself) <br/>\n",
    "In this guide, we are going to see how easy it will be with pytorch."
   ]
  },
  {
   "cell_type": "markdown",
   "metadata": {},
   "source": [
    "## Pytorch Basics\n",
    "\n",
    "Let's learn some pytorch basics.<br/>\n",
    "Basically it's exactly like numpy but works with the GPU."
   ]
  },
  {
   "cell_type": "code",
   "execution_count": 1,
   "metadata": {},
   "outputs": [],
   "source": [
    "%matplotlib inline\n",
    "from fastai import * "
   ]
  },
  {
   "cell_type": "code",
   "execution_count": 2,
   "metadata": {},
   "outputs": [
    {
     "data": {
      "text/plain": [
       "tensor([40., 60.])"
      ]
     },
     "execution_count": 2,
     "metadata": {},
     "output_type": "execute_result"
    }
   ],
   "source": [
    "# Simple vector arithmatics.\n",
    "x = tensor(10., 20)\n",
    "y = tensor(30., 40)\n",
    "x + y"
   ]
  },
  {
   "cell_type": "code",
   "execution_count": 3,
   "metadata": {},
   "outputs": [
    {
     "data": {
      "text/plain": [
       "tensor([30., 70.])"
      ]
     },
     "execution_count": 3,
     "metadata": {},
     "output_type": "execute_result"
    }
   ],
   "source": [
    "# Matrix/vector dot product\n",
    "x = tensor([\n",
    "    [10., 20],\n",
    "    [30., 40]\n",
    "])\n",
    "\n",
    "y = tensor([1.,1.])\n",
    "\n",
    "x@y"
   ]
  },
  {
   "cell_type": "code",
   "execution_count": 4,
   "metadata": {},
   "outputs": [
    {
     "data": {
      "text/plain": [
       "tensor([[1., 1.],\n",
       "        [1., 1.],\n",
       "        [1., 1.],\n",
       "        [1., 1.],\n",
       "        [1., 1.],\n",
       "        [1., 1.],\n",
       "        [1., 1.],\n",
       "        [1., 1.],\n",
       "        [1., 1.],\n",
       "        [1., 1.]])"
      ]
     },
     "execution_count": 4,
     "metadata": {},
     "output_type": "execute_result"
    }
   ],
   "source": [
    "# Create a two dimention metrix with 10 rows and 2 cols.\n",
    "rows = 10\n",
    "cols = 2\n",
    "x = torch.ones(10, 2); x"
   ]
  },
  {
   "cell_type": "code",
   "execution_count": 5,
   "metadata": {},
   "outputs": [
    {
     "data": {
      "text/plain": [
       "tensor([1., 1., 1., 1., 1., 1., 1., 1., 1., 1.])"
      ]
     },
     "execution_count": 5,
     "metadata": {},
     "output_type": "execute_result"
    }
   ],
   "source": [
    "# Get a single column\n",
    "x[:,0]"
   ]
  },
  {
   "cell_type": "code",
   "execution_count": 6,
   "metadata": {},
   "outputs": [
    {
     "data": {
      "text/plain": [
       "tensor([[1., 1.],\n",
       "        [1., 1.],\n",
       "        [1., 1.],\n",
       "        [1., 1.],\n",
       "        [1., 1.]])"
      ]
     },
     "execution_count": 6,
     "metadata": {},
     "output_type": "execute_result"
    }
   ],
   "source": [
    "# Get first five rows\n",
    "x[:5]"
   ]
  },
  {
   "cell_type": "code",
   "execution_count": 7,
   "metadata": {},
   "outputs": [
    {
     "data": {
      "text/plain": [
       "\u001b[0;31mDocstring:\u001b[0m\n",
       "uniform_(from=0, to=1) -> Tensor\n",
       "\n",
       "Fills :attr:`self` tensor with numbers sampled from the continuous uniform\n",
       "distribution:\n",
       "\n",
       ".. math::\n",
       "    P(x) = \\dfrac{1}{\\text{to} - \\text{from}}\n",
       "\u001b[0;31mType:\u001b[0m      method_descriptor\n"
      ]
     },
     "metadata": {},
     "output_type": "display_data"
    }
   ],
   "source": [
    "# Update some values in the first column\n",
    "Tensor.uniform_?"
   ]
  },
  {
   "cell_type": "code",
   "execution_count": 8,
   "metadata": {},
   "outputs": [
    {
     "data": {
      "text/plain": [
       "tensor([-0.8877,  0.5016, -0.0939, -0.2609, -0.8152, -0.2827, -0.2307,  0.6771,\n",
       "        -0.6841,  0.0391])"
      ]
     },
     "execution_count": 8,
     "metadata": {},
     "output_type": "execute_result"
    }
   ],
   "source": [
    "x[:, 0].uniform_(-1., 1)"
   ]
  },
  {
   "cell_type": "code",
   "execution_count": 9,
   "metadata": {},
   "outputs": [
    {
     "data": {
      "text/plain": [
       "tensor([[-0.8877,  1.0000],\n",
       "        [ 0.5016,  1.0000],\n",
       "        [-0.0939,  1.0000],\n",
       "        [-0.2609,  1.0000],\n",
       "        [-0.8152,  1.0000],\n",
       "        [-0.2827,  1.0000],\n",
       "        [-0.2307,  1.0000],\n",
       "        [ 0.6771,  1.0000],\n",
       "        [-0.6841,  1.0000],\n",
       "        [ 0.0391,  1.0000]])"
      ]
     },
     "execution_count": 9,
     "metadata": {},
     "output_type": "execute_result"
    }
   ],
   "source": [
    "x"
   ]
  },
  {
   "cell_type": "markdown",
   "metadata": {},
   "source": [
    "## Linear Regression Basics\n",
    "\n",
    "Here we try to fit a line for a set of samples. The algorithm for a line is:\n",
    "\n",
    "y = ax + c\n",
    "\n",
    "We can write it as:\n",
    "\n",
    "y = a1x1 + a2x2 \n",
    "\n",
    "In the above, a2x2 = c. And x2 will be always 1.\n",
    "\n",
    "If we've a bunch of x1, x2 values (multiple rows), we can write it like this as a metrix product:\n",
    "\n",
    "Y = X.a\n",
    "\n",
    " * 'X' is a rows,parameters matrix.\n",
    " * 'a' is vector of parameters. \n",
    " * 'Y' is vector y results for each and every row."
   ]
  },
  {
   "cell_type": "markdown",
   "metadata": {},
   "source": [
    "## Fit Linear Regression with PyTorch\n",
    "\n",
    "Here we are trying to find parameters(a) for the above `Y = X.a` function with a given set of values for `Y` and `X`."
   ]
  },
  {
   "cell_type": "code",
   "execution_count": 10,
   "metadata": {},
   "outputs": [
    {
     "data": {
      "text/plain": [
       "tensor([[-0.1102,  1.0000],\n",
       "        [-0.2484,  1.0000],\n",
       "        [-0.9553,  1.0000],\n",
       "        [-0.9519,  1.0000],\n",
       "        [-0.9915,  1.0000]])"
      ]
     },
     "execution_count": 10,
     "metadata": {},
     "output_type": "execute_result"
    }
   ],
   "source": [
    "# Let's create a set of X values\n",
    "# Here we are fitting the function Y = ax + b\n",
    "# We wrote it like this: Y= a1x1 + a2x2\n",
    "# Since b is a contant, a2 will be always 1.\n",
    "# That's why we only generate values for x1 in the following code.\n",
    "n_rows = 100\n",
    "n_params = 2\n",
    "X = torch.ones(n_rows, n_params)\n",
    "X[:,0].uniform_(-1., 1)\n",
    "X[:5]"
   ]
  },
  {
   "cell_type": "code",
   "execution_count": 11,
   "metadata": {},
   "outputs": [],
   "source": [
    "# Now we need to find a set of Y values of this.\n",
    "# For that, we are going to define a1 and a2.\n",
    "# That's what we are going to predict using gradient descent.\n",
    "\n",
    "a = tensor(3., 2)\n",
    "Y = X@a"
   ]
  },
  {
   "cell_type": "markdown",
   "metadata": {},
   "source": [
    "Let's draw these points in a scatter plot."
   ]
  },
  {
   "cell_type": "code",
   "execution_count": 12,
   "metadata": {},
   "outputs": [
    {
     "data": {
      "text/plain": [
       "<matplotlib.collections.PathCollection at 0x7fd23229e128>"
      ]
     },
     "execution_count": 12,
     "metadata": {},
     "output_type": "execute_result"
    },
    {
     "data": {
      "image/png": "[encoded data removed]",
      "text/plain": [
       "<Figure size 432x288 with 1 Axes>"
      ]
     },
     "metadata": {
      "needs_background": "light"
     },
     "output_type": "display_data"
    }
   ],
   "source": [
    "plt.scatter(X[:,0], Y)"
   ]
  },
  {
   "cell_type": "markdown",
   "metadata": {},
   "source": [
    "See. It's a stright line. We don't gradient descent to solve the paramters for a line. <br/>\n",
    "That's why we are going to make these values shift a bit by adding some random number."
   ]
  },
  {
   "cell_type": "code",
   "execution_count": 13,
   "metadata": {},
   "outputs": [],
   "source": [
    "Y = X@a + (torch.rand(n_rows))"
   ]
  },
  {
   "cell_type": "code",
   "execution_count": 14,
   "metadata": {},
   "outputs": [
    {
     "data": {
      "text/plain": [
       "<matplotlib.collections.PathCollection at 0x7fd2322c4518>"
      ]
     },
     "execution_count": 14,
     "metadata": {},
     "output_type": "execute_result"
    },
    {
     "data": {
      "image/png": "[encoded data removed]",
      "text/plain": [
       "<Figure size 432x288 with 1 Axes>"
      ]
     },
     "metadata": {
      "needs_background": "light"
     },
     "output_type": "display_data"
    }
   ],
   "source": [
    "plt.scatter(X[:, 0], Y)"
   ]
  },
  {
   "cell_type": "markdown",
   "metadata": {},
   "source": [
    "Okay. Now this is interesting."
   ]
  },
  {
   "cell_type": "markdown",
   "metadata": {},
   "source": [
    "### Just Predict a Simple Line \n",
    "\n",
    "Don't worry about the accuracy."
   ]
  },
  {
   "cell_type": "code",
   "execution_count": 15,
   "metadata": {},
   "outputs": [
    {
     "data": {
      "text/plain": [
       "<matplotlib.collections.PathCollection at 0x7fd2321afa20>"
      ]
     },
     "execution_count": 15,
     "metadata": {},
     "output_type": "execute_result"
    },
    {
     "data": {
      "image/png": "[encoded data removed]",
      "text/plain": [
       "<Figure size 432x288 with 1 Axes>"
      ]
     },
     "metadata": {
      "needs_background": "light"
     },
     "output_type": "display_data"
    }
   ],
   "source": [
    "a_pred = tensor(-1., 1)\n",
    "Y_hat = X@a_pred\n",
    "\n",
    "plt.scatter(X[:, 0], Y) # real points\n",
    "plt.scatter(X[:, 0], Y_hat) # predicted points"
   ]
  },
  {
   "cell_type": "markdown",
   "metadata": {},
   "source": [
    "That's a pretty bad prediction. Let's find out the error. <br/>\n",
    "For that, we are using the algorithm **mean squared error (mse)**."
   ]
  },
  {
   "cell_type": "code",
   "execution_count": 16,
   "metadata": {},
   "outputs": [],
   "source": [
    "mse = lambda y, y_hat: ((y-y_hat)**2).mean()"
   ]
  },
  {
   "cell_type": "code",
   "execution_count": 17,
   "metadata": {},
   "outputs": [
    {
     "data": {
      "text/plain": [
       "tensor(6.6259)"
      ]
     },
     "execution_count": 17,
     "metadata": {},
     "output_type": "execute_result"
    }
   ],
   "source": [
    "mse(Y, Y_hat)"
   ]
  },
  {
   "cell_type": "markdown",
   "metadata": {},
   "source": [
    "Here error rate is a bigger number (~7). So, That's a huge. So, we need to reduce that is very close to 0."
   ]
  },
  {
   "cell_type": "markdown",
   "metadata": {},
   "source": [
    "### Using Gradient Descent\n",
    "\n",
    "That's where we are going to use gradient descent."
   ]
  },
  {
   "cell_type": "code",
   "execution_count": 26,
   "metadata": {},
   "outputs": [
    {
     "data": {
      "text/plain": [
       "Parameter containing:\n",
       "tensor([-1.,  1.], requires_grad=True)"
      ]
     },
     "execution_count": 26,
     "metadata": {},
     "output_type": "execute_result"
    }
   ],
   "source": [
    "## This is special class to hold parameters.\n",
    "a_pred = nn.Parameter(tensor(-1., 1)); a_pred"
   ]
  },
  {
   "cell_type": "code",
   "execution_count": 27,
   "metadata": {},
   "outputs": [],
   "source": [
    "def update(x, y, params, lr):\n",
    "    y_hat = x@params\n",
    "    loss = mse(y, y_hat)\n",
    "    loss.backward()\n",
    "    grad = None\n",
    "    with torch.no_grad():\n",
    "        grad = params.grad.clone()\n",
    "        params.sub_(grad * lr)\n",
    "        params.grad.zero_()\n",
    "    return loss, grad"
   ]
  },
  {
   "cell_type": "code",
   "execution_count": 28,
   "metadata": {},
   "outputs": [
    {
     "name": "stdout",
     "output_type": "stream",
     "text": [
      "tensor(6.6259, grad_fn=<MeanBackward1>) tensor([-2.4617, -2.1133])\n",
      "tensor(1.5977, grad_fn=<MeanBackward1>) tensor([-1.3626, -0.3885])\n",
      "tensor(0.4665, grad_fn=<MeanBackward1>) tensor([-0.7065, -0.1271])\n",
      "tensor(0.1737, grad_fn=<MeanBackward1>) tensor([-0.3617, -0.0575])\n",
      "tensor(0.0975, grad_fn=<MeanBackward1>) tensor([-0.1848, -0.0286])\n",
      "tensor(0.0776, grad_fn=<MeanBackward1>) tensor([-0.0943, -0.0145])\n",
      "tensor(0.0724, grad_fn=<MeanBackward1>) tensor([-0.0481, -0.0074])\n",
      "tensor(0.0711, grad_fn=<MeanBackward1>) tensor([-0.0246, -0.0038])\n",
      "tensor(0.0707, grad_fn=<MeanBackward1>) tensor([-0.0125, -0.0019])\n",
      "tensor(0.0706, grad_fn=<MeanBackward1>) tensor([-0.0064, -0.0010])\n"
     ]
    }
   ],
   "source": [
    "for i in range(100):\n",
    "    loss, grad = update(X, Y, a_pred, lr=0.1)\n",
    "    if i % 10 == 0:\n",
    "        print(loss, grad)"
   ]
  },
  {
   "cell_type": "markdown",
   "metadata": {},
   "source": [
    "It seems like the error is not getting improved further. <br/>\n",
    "So, this might be the best parameters for our line. Let's have a look at those."
   ]
  },
  {
   "cell_type": "code",
   "execution_count": 29,
   "metadata": {},
   "outputs": [
    {
     "data": {
      "text/plain": [
       "Parameter containing:\n",
       "tensor([3.0523, 2.4768], requires_grad=True)"
      ]
     },
     "execution_count": 29,
     "metadata": {},
     "output_type": "execute_result"
    }
   ],
   "source": [
    "a_pred"
   ]
  },
  {
   "cell_type": "markdown",
   "metadata": {},
   "source": [
    "Let's draw this to visualize what's going on here."
   ]
  },
  {
   "cell_type": "code",
   "execution_count": 30,
   "metadata": {},
   "outputs": [
    {
     "data": {
      "text/plain": [
       "<matplotlib.collections.PathCollection at 0x7fd230ff85f8>"
      ]
     },
     "execution_count": 30,
     "metadata": {},
     "output_type": "execute_result"
    },
    {
     "data": {
      "image/png": "[encoded data removed]",
      "text/plain": [
       "<Figure size 432x288 with 1 Axes>"
      ]
     },
     "metadata": {
      "needs_background": "light"
     },
     "output_type": "display_data"
    }
   ],
   "source": [
    "plt.scatter(X[:, 0], Y)\n",
    "plt.scatter(X[:, 0], X@a_pred)"
   ]
  },
  {
   "cell_type": "markdown",
   "metadata": {},
   "source": [
    "Wow. That's a pretty good result."
   ]
  },
  {
   "cell_type": "code",
   "execution_count": null,
   "metadata": {},
   "outputs": [],
   "source": []
  }
 ],
 "metadata": {
  "kernelspec": {
   "display_name": "fastai-v1",
   "language": "python",
   "name": "fastai-v1"
  },
  "language_info": {
   "codemirror_mode": {
    "name": "ipython",
    "version": 3
   },
   "file_extension": ".py",
   "mimetype": "text/x-python",
   "name": "python",
   "nbconvert_exporter": "python",
   "pygments_lexer": "ipython3",
   "version": "3.7.1"
  }
 },
 "nbformat": 4,
 "nbformat_minor": 2
}
