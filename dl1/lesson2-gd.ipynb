{
 "cells": [
  {
   "cell_type": "markdown",
   "metadata": {},
   "source": [
    "# Lesson 2 - Gradient Descent\n",
    "\n",
    "Gradient Descent is a critical tool used in machine learning. <br/>\n",
    "It's somewhat hard to implement, if you are not really good with Math. (Like myself) <br/>\n",
    "In this guide, we are going to see how easy it will be with pytorch."
   ]
  },
  {
   "cell_type": "markdown",
   "metadata": {},
   "source": [
    "## Pytorch Basics\n",
    "\n",
    "Let's learn some pytorch basics.<br/>\n",
    "Basically it's exactly like numpy but works with the GPU."
   ]
  },
  {
   "cell_type": "code",
   "execution_count": 1,
   "metadata": {},
   "outputs": [],
   "source": [
    "%matplotlib inline\n",
    "from fastai import * "
   ]
  },
  {
   "cell_type": "code",
   "execution_count": 3,
   "metadata": {},
   "outputs": [
    {
     "data": {
      "text/plain": [
       "tensor([40., 60.])"
      ]
     },
     "execution_count": 3,
     "metadata": {},
     "output_type": "execute_result"
    }
   ],
   "source": [
    "# Simple vector arithmatics.\n",
    "x = tensor(10., 20)\n",
    "y = tensor(30., 40)\n",
    "x + y"
   ]
  },
  {
   "cell_type": "code",
   "execution_count": 6,
   "metadata": {},
   "outputs": [
    {
     "data": {
      "text/plain": [
       "tensor([30., 70.])"
      ]
     },
     "execution_count": 6,
     "metadata": {},
     "output_type": "execute_result"
    }
   ],
   "source": [
    "# Matrix/vector dot product\n",
    "x = tensor([\n",
    "    [10., 20],\n",
    "    [30., 40]\n",
    "])\n",
    "\n",
    "y = tensor([1.,1.])\n",
    "\n",
    "x@y"
   ]
  },
  {
   "cell_type": "code",
   "execution_count": 8,
   "metadata": {},
   "outputs": [
    {
     "data": {
      "text/plain": [
       "tensor([[1., 1.],\n",
       "        [1., 1.],\n",
       "        [1., 1.],\n",
       "        [1., 1.],\n",
       "        [1., 1.],\n",
       "        [1., 1.],\n",
       "        [1., 1.],\n",
       "        [1., 1.],\n",
       "        [1., 1.],\n",
       "        [1., 1.]])"
      ]
     },
     "execution_count": 8,
     "metadata": {},
     "output_type": "execute_result"
    }
   ],
   "source": [
    "# Create a two dimention metrix with 10 rows and 2 cols.\n",
    "rows = 10\n",
    "cols = 2\n",
    "x = torch.ones(10, 2); x"
   ]
  },
  {
   "cell_type": "code",
   "execution_count": 11,
   "metadata": {},
   "outputs": [
    {
     "data": {
      "text/plain": [
       "tensor([1., 1., 1., 1., 1., 1., 1., 1., 1., 1.])"
      ]
     },
     "execution_count": 11,
     "metadata": {},
     "output_type": "execute_result"
    }
   ],
   "source": [
    "# Get a single column\n",
    "x[:,0]"
   ]
  },
  {
   "cell_type": "code",
   "execution_count": 12,
   "metadata": {},
   "outputs": [
    {
     "data": {
      "text/plain": [
       "tensor([[1., 1.],\n",
       "        [1., 1.],\n",
       "        [1., 1.],\n",
       "        [1., 1.],\n",
       "        [1., 1.]])"
      ]
     },
     "execution_count": 12,
     "metadata": {},
     "output_type": "execute_result"
    }
   ],
   "source": [
    "# Get first five rows\n",
    "x[:5]"
   ]
  },
  {
   "cell_type": "code",
   "execution_count": 21,
   "metadata": {},
   "outputs": [
    {
     "data": {
      "text/plain": [
       "\u001b[0;31mDocstring:\u001b[0m\n",
       "uniform_(from=0, to=1) -> Tensor\n",
       "\n",
       "Fills :attr:`self` tensor with numbers sampled from the continuous uniform\n",
       "distribution:\n",
       "\n",
       ".. math::\n",
       "    P(x) = \\dfrac{1}{\\text{to} - \\text{from}}\n",
       "\u001b[0;31mType:\u001b[0m      method_descriptor\n"
      ]
     },
     "metadata": {},
     "output_type": "display_data"
    }
   ],
   "source": [
    "# Update some values in the first column\n",
    "Tensor.uniform_?"
   ]
  },
  {
   "cell_type": "code",
   "execution_count": 22,
   "metadata": {},
   "outputs": [
    {
     "data": {
      "text/plain": [
       "tensor([-0.8711,  0.2207,  0.7721,  0.7396, -0.8697, -0.6463,  0.9974, -0.3136,\n",
       "         0.8553, -0.3755])"
      ]
     },
     "execution_count": 22,
     "metadata": {},
     "output_type": "execute_result"
    }
   ],
   "source": [
    "x[:, 0].uniform_(-1., 1)"
   ]
  },
  {
   "cell_type": "code",
   "execution_count": 23,
   "metadata": {},
   "outputs": [
    {
     "data": {
      "text/plain": [
       "tensor([[-0.8711,  1.0000],\n",
       "        [ 0.2207,  1.0000],\n",
       "        [ 0.7721,  1.0000],\n",
       "        [ 0.7396,  1.0000],\n",
       "        [-0.8697,  1.0000],\n",
       "        [-0.6463,  1.0000],\n",
       "        [ 0.9974,  1.0000],\n",
       "        [-0.3136,  1.0000],\n",
       "        [ 0.8553,  1.0000],\n",
       "        [-0.3755,  1.0000]])"
      ]
     },
     "execution_count": 23,
     "metadata": {},
     "output_type": "execute_result"
    }
   ],
   "source": [
    "x"
   ]
  },
  {
   "cell_type": "markdown",
   "metadata": {},
   "source": [
    "## Simple Linear Regression\n",
    "\n",
    "Here we try to fit a line for a set of samples. The algorithm for a line is:\n",
    "\n",
    "y = ax + c\n",
    "\n",
    "We can write it as:\n",
    "\n",
    "y = a1x1 + a2x2 \n",
    "\n",
    "In the above, a2x2 = c. And x2 will be always 1.\n",
    "\n",
    "If we've a bunch of x1, x2 values (multiple rows), we can write it like this as a metrix product:\n",
    "\n",
    "Y = X.a\n",
    "\n",
    " * 'X' is a rows,parameters matrix.\n",
    " * 'a' is vector of parameters. \n",
    " * 'Y' is vector y results for each and every row."
   ]
  },
  {
   "cell_type": "code",
   "execution_count": null,
   "metadata": {},
   "outputs": [],
   "source": []
  }
 ],
 "metadata": {
  "kernelspec": {
   "display_name": "fastai-v1",
   "language": "python",
   "name": "fastai-v1"
  },
  "language_info": {
   "codemirror_mode": {
    "name": "ipython",
    "version": 3
   },
   "file_extension": ".py",
   "mimetype": "text/x-python",
   "name": "python",
   "nbconvert_exporter": "python",
   "pygments_lexer": "ipython3",
   "version": "3.7.0"
  }
 },
 "nbformat": 4,
 "nbformat_minor": 2
}
